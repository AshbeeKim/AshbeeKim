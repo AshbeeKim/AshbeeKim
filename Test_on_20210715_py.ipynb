{
  "nbformat": 4,
  "nbformat_minor": 0,
  "metadata": {
    "colab": {
      "name": "Test_on_20210715.py",
      "provenance": [],
      "collapsed_sections": [],
      "toc_visible": true,
      "authorship_tag": "ABX9TyMPgZctTKwK6DBSu2/v0hUX",
      "include_colab_link": true
    },
    "kernelspec": {
      "name": "python3",
      "display_name": "Python 3"
    },
    "language_info": {
      "name": "python"
    }
  },
  "cells": [
    {
      "cell_type": "markdown",
      "metadata": {
        "id": "view-in-github",
        "colab_type": "text"
      },
      "source": [
        "<a href=\"https://colab.research.google.com/github/AshbeeKim/AshbeeKim-1/blob/main/Test_on_20210715_py.ipynb\" target=\"_parent\"><img src=\"https://colab.research.google.com/assets/colab-badge.svg\" alt=\"Open In Colab\"/></a>"
      ]
    },
    {
      "cell_type": "markdown",
      "metadata": {
        "id": "0sM8NMe4grpE"
      },
      "source": [
        "# 빅데이터 분석 기획\n",
        "-- dataset : https://www.kaggle.com/vjchoudhary7/customer-segmentation-tutorial-in-python"
      ]
    },
    {
      "cell_type": "code",
      "metadata": {
        "id": "xDNcvR1UEjoc",
        "colab": {
          "base_uri": "https://localhost:8080/"
        },
        "outputId": "2af6e849-79ff-4393-c075-6d456b5c879d"
      },
      "source": [
        "import os\n",
        "from google.colab import drive\n",
        "ROOT = \"/content/drive\"\n",
        "drive.mount(ROOT)\n",
        "\n",
        "from os.path import join\n",
        "MY_GOOGLE_DRIVE_PATH = \"MyDrive/Task/\"\n",
        "\n",
        "KAGGLE = \".kaggle\"\n",
        "KAGGLE_PATH = join(ROOT, MY_GOOGLE_DRIVE_PATH, KAGGLE)\n",
        "os.environ['KAGGLE_CONFIG_DIR'] = KAGGLE_PATH\n",
        "!pip install --upgrade --force-reinstall --no-deps kaggle\n",
        "# %cd \"{KAGGLE_PATH}\"\n",
        "\n",
        "PROJECT = \"CustomerSegmentation\"\n",
        "PROJECT_PATH = join(ROOT, MY_GOOGLE_DRIVE_PATH, PROJECT)\n",
        "# !mkdir \"{PROJECT_PATH}\"\n",
        "%cd \"{PROJECT_PATH}\"\n",
        "\n",
        "# !kaggle datasets list -s customer-segmentation-tutorial-in-python\n",
        "# !kaggle datasets download -d customer-segmentation-tutorial-in-python\n",
        "# !unzip Mall_Customer_Segmentation_Data .zip\n",
        "# !rm Mall_Customer_Segmentation_Data .zip"
      ],
      "execution_count": null,
      "outputs": [
        {
          "output_type": "stream",
          "text": [
            "Mounted at /content/drive\n",
            "Collecting kaggle\n",
            "\u001b[?25l  Downloading https://files.pythonhosted.org/packages/3a/e7/3bac01547d2ed3d308ac92a0878fbdb0ed0f3d41fb1906c319ccbba1bfbc/kaggle-1.5.12.tar.gz (58kB)\n",
            "\u001b[K     |████████████████████████████████| 61kB 6.0MB/s \n",
            "\u001b[?25hBuilding wheels for collected packages: kaggle\n",
            "  Building wheel for kaggle (setup.py) ... \u001b[?25l\u001b[?25hdone\n",
            "  Created wheel for kaggle: filename=kaggle-1.5.12-cp37-none-any.whl size=73053 sha256=d03d35f5c851ad3df6953c673756b5b07f626149304a164fba4c7f0b93b716da\n",
            "  Stored in directory: /root/.cache/pip/wheels/a1/6a/26/d30b7499ff85a4a4593377a87ecf55f7d08af42f0de9b60303\n",
            "Successfully built kaggle\n",
            "Installing collected packages: kaggle\n",
            "  Found existing installation: kaggle 1.5.12\n",
            "    Uninstalling kaggle-1.5.12:\n",
            "      Successfully uninstalled kaggle-1.5.12\n",
            "Successfully installed kaggle-1.5.12\n",
            "/content/drive/.shortcut-targets-by-id/1srYR8TqwFsUSR4BYzQtIBmWUKrEBjd44/Task/CustomerSegmentation\n"
          ],
          "name": "stdout"
        }
      ]
    },
    {
      "cell_type": "code",
      "metadata": {
        "id": "RT-N-9dalAZD"
      },
      "source": [
        "import time\n",
        "import random\n",
        "import re\n",
        "import math\n",
        "import itertools\n",
        "\n",
        "import csv\n",
        "import numpy as np\n",
        "import pandas as pd\n",
        "\n",
        "import seaborn as sns\n",
        "import matplotlib.pyplot as plt\n",
        "%matplotlib inline\n",
        "from IPython.display import display as dp\n",
        "from IPython import display\n",
        "\n",
        "import warnings\n",
        "warnings.filterwarnings('ignore')"
      ],
      "execution_count": null,
      "outputs": []
    },
    {
      "cell_type": "code",
      "metadata": {
        "id": "-oERjXfIL8BD"
      },
      "source": [
        "df = pd.read_csv(f\"{PROJECT_PATH}/Mall_Customers.csv\", encoding=\"UTF-8\")"
      ],
      "execution_count": null,
      "outputs": []
    },
    {
      "cell_type": "markdown",
      "metadata": {
        "id": "iFquAqGtgrmy"
      },
      "source": [
        "## Q1. 각 속성의 통계량을 확인하고 해석하시오."
      ]
    },
    {
      "cell_type": "code",
      "metadata": {
        "colab": {
          "base_uri": "https://localhost:8080/"
        },
        "id": "EP-6EBkyNC_O",
        "outputId": "a6d0c989-ed9f-4c13-c783-113bda700fea"
      },
      "source": [
        "df.info()"
      ],
      "execution_count": null,
      "outputs": [
        {
          "output_type": "stream",
          "text": [
            "<class 'pandas.core.frame.DataFrame'>\n",
            "RangeIndex: 200 entries, 0 to 199\n",
            "Data columns (total 5 columns):\n",
            " #   Column                  Non-Null Count  Dtype \n",
            "---  ------                  --------------  ----- \n",
            " 0   CustomerID              200 non-null    int64 \n",
            " 1   Gender                  200 non-null    object\n",
            " 2   Age                     200 non-null    int64 \n",
            " 3   Annual Income (k$)      200 non-null    int64 \n",
            " 4   Spending Score (1-100)  200 non-null    int64 \n",
            "dtypes: int64(4), object(1)\n",
            "memory usage: 7.9+ KB\n"
          ],
          "name": "stdout"
        }
      ]
    },
    {
      "cell_type": "code",
      "metadata": {
        "colab": {
          "base_uri": "https://localhost:8080/"
        },
        "id": "CvoferYvTlPb",
        "outputId": "ed756f11-c4eb-4529-8979-51f98e6eb1f2"
      },
      "source": [
        "df.Gender.unique()"
      ],
      "execution_count": null,
      "outputs": [
        {
          "output_type": "execute_result",
          "data": {
            "text/plain": [
              "array(['Male', 'Female'], dtype=object)"
            ]
          },
          "metadata": {
            "tags": []
          },
          "execution_count": 12
        }
      ]
    },
    {
      "cell_type": "code",
      "metadata": {
        "id": "169aPsKkTpwf"
      },
      "source": [
        "df.Gender = df.Gender.map({'Male' : 0, 'Female' : 1})"
      ],
      "execution_count": null,
      "outputs": []
    },
    {
      "cell_type": "code",
      "metadata": {
        "id": "dTl-pC1qhDiY"
      },
      "source": [
        "df_col = [col for col in df.columns]"
      ],
      "execution_count": null,
      "outputs": []
    },
    {
      "cell_type": "code",
      "metadata": {
        "colab": {
          "base_uri": "https://localhost:8080/",
          "height": 750
        },
        "id": "0rYtBDZdT3a5",
        "outputId": "2d2659ad-b77d-4628-bd74-aa0c4c4ff395"
      },
      "source": [
        "for col in df_col:\n",
        "  print(f\"Distribution and Outlier of {col}\")\n",
        "  f, ax = plt.subplots(ncols=2, figsize=(12, 4))\n",
        "  if len(df[col].unique())<5:\n",
        "    sns.countplot(df[col], color='purple', ax=ax[0])\n",
        "  else:\n",
        "    sns.distplot(df[col], color='purple', rug=True, ax=ax[0])\n",
        "  sns.boxplot(df[col], color='green', ax=ax[1])\n",
        "  plt.tight_layout()\n",
        "  plt.show()\n",
        "\n",
        "display.Javascript(\"google.colab.output.setIframeHeight('750px');\")"
      ],
      "execution_count": null,
      "outputs": [
        {
          "output_type": "stream",
          "text": [
            "Distribution and Outlier of CustomerID\n"
          ],
          "name": "stdout"
        },
        {
          "output_type": "display_data",
          "data": {
            "image/png": "[encoded data removed]",
            "text/plain": [
              "<Figure size 864x288 with 2 Axes>"
            ]
          },
          "metadata": {
            "tags": [],
            "needs_background": "light"
          }
        },
        {
          "output_type": "stream",
          "text": [
            "Distribution and Outlier of Gender\n"
          ],
          "name": "stdout"
        },
        {
          "output_type": "display_data",
          "data": {
            "image/png": "[encoded data removed]",
            "text/plain": [
              "<Figure size 864x288 with 2 Axes>"
            ]
          },
          "metadata": {
            "tags": [],
            "needs_background": "light"
          }
        },
        {
          "output_type": "stream",
          "text": [
            "Distribution and Outlier of Age\n"
          ],
          "name": "stdout"
        },
        {
          "output_type": "display_data",
          "data": {
            "image/png": "[encoded data removed]",
            "text/plain": [
              "<Figure size 864x288 with 2 Axes>"
            ]
          },
          "metadata": {
            "tags": [],
            "needs_background": "light"
          }
        },
        {
          "output_type": "stream",
          "text": [
            "Distribution and Outlier of Annual Income (k$)\n"
          ],
          "name": "stdout"
        },
        {
          "output_type": "display_data",
          "data": {
            "image/png": "[encoded data removed]",
            "text/plain": [
              "<Figure size 864x288 with 2 Axes>"
            ]
          },
          "metadata": {
            "tags": [],
            "needs_background": "light"
          }
        },
        {
          "output_type": "stream",
          "text": [
            "Distribution and Outlier of Spending Score (1-100)\n"
          ],
          "name": "stdout"
        },
        {
          "output_type": "display_data",
          "data": {
            "image/png": "[encoded data removed]",
            "text/plain": [
              "<Figure size 864x288 with 2 Axes>"
            ]
          },
          "metadata": {
            "tags": [],
            "needs_background": "light"
          }
        },
        {
          "output_type": "execute_result",
          "data": {
            "application/javascript": [
              "google.colab.output.setIframeHeight('750px');"
            ],
            "text/plain": [
              "<IPython.core.display.Javascript object>"
            ]
          },
          "metadata": {
            "tags": []
          },
          "execution_count": 22
        }
      ]
    },
    {
      "cell_type": "markdown",
      "metadata": {
        "id": "888A_UTsWIf2"
      },
      "source": [
        "square 형태를 띄고 있는 customerID는 논외로 간주(이유 : 고객소비지수?를 예측한 뒤, 팔로우업을 하기 위한 identificational한 변수로 생각됨)\n",
        "\n",
        "age의 분포를 보면, MZ-세대(10대 이하가 적은 것을 보아 XY세대일 수도...?)와 중년층으로 쏠려있음(소득(사업소득인지, 급여소득인지는 알 수 없음)이 존재하는 대상으로 구성된 것일까?)\n",
        "\n",
        "annual income의 단위가 kilo$인 것을 보아 각 값에 *1000을 해주면 된다는 것을 알 수 있음. 분포가 약간 쏠렸지만, 사용이 가능하고 이상치가 존재함.\n",
        "\n",
        "중산층의 범주가 넓어지는 현시대의 상황을 고려하면, 중간값(혹은 중앙값)이 솟은 이유가 설명됨.\n"
      ]
    },
    {
      "cell_type": "markdown",
      "metadata": {
        "id": "arZ9U3rDhJbB"
      },
      "source": [
        "## Q2. 적합도검정(goodness of fit test) 해보고 결과를 해석하시오.\n",
        "적합도검정 : 가정된 확률이 정해져 있을 때와 가정된 확률이 정해져 있지 않을 때 데이터가 가정된 확률에 적합하게 따르고 있는가를 검정하는 방법이다."
      ]
    },
    {
      "cell_type": "markdown",
      "metadata": {
        "id": "SDgikOHzdQCd"
      },
      "source": [
        "주로 카이제곱 검정에서 사용되는 방법\n",
        "\n",
        "귀무가설과 대립가설을 세운 뒤 검증하는 방법인데, 독립 관계를 확인한 뒤 해당 변수가 필요 변수인지 아닌지를 판단함"
      ]
    },
    {
      "cell_type": "code",
      "metadata": {
        "id": "JYNav0wPhMy0",
        "colab": {
          "base_uri": "https://localhost:8080/"
        },
        "outputId": "a0fcf2fa-7b72-4a0b-d3ad-b4b3d7934ee5"
      },
      "source": [
        "from sklearn.feature_selection import chi2\n",
        "from sklearn.feature_selection import SelectKBest\n",
        "\n",
        "X, y = df.iloc[:,1:-1], df.iloc[:, [-1]]\n",
        "print(df.shape)\n",
        "GoodnessOrNot = SelectKBest(chi2, k=2).fit_transform(X, y)\n",
        "print(GoodnessOrNot.shape)"
      ],
      "execution_count": null,
      "outputs": [
        {
          "output_type": "stream",
          "text": [
            "(200, 5)\n",
            "(200, 2)\n"
          ],
          "name": "stdout"
        }
      ]
    },
    {
      "cell_type": "markdown",
      "metadata": {
        "id": "JmYUkicg_FLo"
      },
      "source": [
        "이 방식을 사용하는 것은 뭐가 잘못된 것임을 느낌....\n",
        "\n",
        "chi2는 두 카테고리 변수의 독립성을 판단하는데 좋은 방법임...그러니까 결국 분류 문제에 적합하다는 것임\n",
        "\n",
        "[참고 유사 답변] https://stackoverflow.com/questions/51695769/sklearn-chi2-for-feature-selection"
      ]
    },
    {
      "cell_type": "markdown",
      "metadata": {
        "id": "G5Ziwp25An-k"
      },
      "source": [
        "### Hypothesis 1. Does mid-range of Age's income always higher than elders?\n"
      ]
    },
    {
      "cell_type": "code",
      "metadata": {
        "colab": {
          "base_uri": "https://localhost:8080/"
        },
        "id": "4Aulz2LSAhSk",
        "outputId": "aa18c779-f824-41d8-cba7-327a6706dcfb"
      },
      "source": [
        "df['Age'].min()"
      ],
      "execution_count": null,
      "outputs": [
        {
          "output_type": "execute_result",
          "data": {
            "text/plain": [
              "18"
            ]
          },
          "metadata": {
            "tags": []
          },
          "execution_count": 29
        }
      ]
    },
    {
      "cell_type": "code",
      "metadata": {
        "colab": {
          "base_uri": "https://localhost:8080/"
        },
        "id": "v87XJmORAk0K",
        "outputId": "b4594edb-6da8-48e8-a77b-ffc14bbf8c54"
      },
      "source": [
        "df['Age'].max()"
      ],
      "execution_count": null,
      "outputs": [
        {
          "output_type": "execute_result",
          "data": {
            "text/plain": [
              "70"
            ]
          },
          "metadata": {
            "tags": []
          },
          "execution_count": 30
        }
      ]
    },
    {
      "cell_type": "code",
      "metadata": {
        "id": "pz2KKmtRBK04"
      },
      "source": [
        "df['Age_range'] = df['Age'].copy()\n",
        "df.loc[df['Age_range']<=18, 'Age_range'] = 0\n",
        "df.loc[(df['Age_range']>18) & (df['Age_range']<=36), 'Age_range'] = 1\n",
        "df.loc[(df['Age_range']>36) & (df['Age_range']<=54), 'Age_range'] = 2\n",
        "df.loc[(df['Age_range']>54) & (df['Age_range']<=70), 'Age_range'] = 3"
      ],
      "execution_count": null,
      "outputs": []
    },
    {
      "cell_type": "code",
      "metadata": {
        "colab": {
          "base_uri": "https://localhost:8080/"
        },
        "id": "BCBcPN4bDlGZ",
        "outputId": "1220a414-acc8-4b93-c118-615baa07dee9"
      },
      "source": [
        "print(f\"18세 이하의 연 평균 소득액 : ${int(df['Annual Income (k$)'][df['Age_range']==0].mean()*1000)}\")\n",
        "print(f\"19~36세의 연 평균 소득액 : ${int(df['Annual Income (k$)'][df['Age_range']==1].mean()*1000)}\")\n",
        "print(f\"37~54세의 연 평균 소득액 : ${int(df['Annual Income (k$)'][df['Age_range']==2].mean()*1000)}\")\n",
        "print(f\"55~70세의 연 평균 소득액 : ${int(df['Annual Income (k$)'][df['Age_range']==3].mean()*1000)}\")"
      ],
      "execution_count": null,
      "outputs": [
        {
          "output_type": "stream",
          "text": [
            "18세 이하의 연 평균 소득액 : $51250\n",
            "19~36세의 연 평균 소득액 : $61060\n",
            "37~54세의 연 평균 소득액 : $63439\n",
            "55~70세의 연 평균 소득액 : $53800\n"
          ],
          "name": "stdout"
        }
      ]
    },
    {
      "cell_type": "markdown",
      "metadata": {
        "id": "HXcJY2X8E8KN"
      },
      "source": [
        "경제 활동 주 연령대(19~54)의 소득이 주 연령대가 아닌 사람들의 소득보다 10000가량 차이가 남"
      ]
    },
    {
      "cell_type": "code",
      "metadata": {
        "colab": {
          "base_uri": "https://localhost:8080/"
        },
        "id": "dvIYyCXVFmOf",
        "outputId": "024344cb-af9b-4cdf-a74a-dba904e90646"
      },
      "source": [
        "print(f\"18세 이하의 평균 소비지수 : {int(df['Spending Score (1-100)'][df['Age_range']==0].mean())}%\")\n",
        "print(f\"19~36세의 평균 소비지수 : {int(df['Spending Score (1-100)'][df['Age_range']==1].mean())}%\")\n",
        "print(f\"37~54세의 평균 소비지수 : {int(df['Spending Score (1-100)'][df['Age_range']==2].mean())}%\")\n",
        "print(f\"55~70세의 평균 소비지수 : {int(df['Spending Score (1-100)'][df['Age_range']==3].mean())}%\")"
      ],
      "execution_count": null,
      "outputs": [
        {
          "output_type": "stream",
          "text": [
            "18세 이하의 평균 소비지수 : 60%\n",
            "19~36세의 평균 소비지수 : 60%\n",
            "37~54세의 평균 소비지수 : 39%\n",
            "55~70세의 평균 소비지수 : 39%\n"
          ],
          "name": "stdout"
        }
      ]
    },
    {
      "cell_type": "markdown",
      "metadata": {
        "id": "hq8ZPKFHF8Ik"
      },
      "source": [
        "다만 소득액이 높다고 해서 항상 높은 소비지수를 가지는 것은 아님\n",
        "\n",
        "책임질 가정이 있는 연령대의 경우, 비교적 평균 소비지수가 낮음을 확인함"
      ]
    },
    {
      "cell_type": "markdown",
      "metadata": {
        "id": "xwIHKKOyCCvW"
      },
      "source": [
        "### Hypothesis 2. Does this data show-up the glass-ceiling?\n",
        "\n",
        "* The glass-ceiling ; annual incomes follows sexuality"
      ]
    },
    {
      "cell_type": "code",
      "metadata": {
        "colab": {
          "base_uri": "https://localhost:8080/"
        },
        "id": "cwt5XRIGFHcI",
        "outputId": "54ea74ce-3640-4274-da02-2c9a8853d638"
      },
      "source": [
        "print(f\"남성 연 평균 소득액 : ${int(df['Annual Income (k$)'][df['Gender']==0].mean()*1000)}\")\n",
        "print(f\"여성 연 평균 소득액 : ${int(df['Annual Income (k$)'][df['Gender']==1].mean()*1000)}\")"
      ],
      "execution_count": null,
      "outputs": [
        {
          "output_type": "stream",
          "text": [
            "남성 연 평균 소득액 : $62227\n",
            "여성 연 평균 소득액 : $59250\n"
          ],
          "name": "stdout"
        }
      ]
    },
    {
      "cell_type": "markdown",
      "metadata": {
        "id": "ToNxnUIUFct1"
      },
      "source": [
        "3천불 정도의 차이는 유리천장이라고 부를 정도의 차이가 나는 것은 아님"
      ]
    },
    {
      "cell_type": "code",
      "metadata": {
        "colab": {
          "base_uri": "https://localhost:8080/"
        },
        "id": "GXV-uwuKGHrm",
        "outputId": "bcdeace3-70d5-47fe-9c51-e35db44db533"
      },
      "source": [
        "print(f\"남성 평균 소비지수 : {int(df['Annual Income (k$)'][df['Gender']==0].mean())}%\")\n",
        "print(f\"여성 평균 소비지수 : {int(df['Annual Income (k$)'][df['Gender']==1].mean())}%\")"
      ],
      "execution_count": null,
      "outputs": [
        {
          "output_type": "stream",
          "text": [
            "남성 평균 소비지수 : 62%\n",
            "여성 평균 소비지수 : 59%\n"
          ],
          "name": "stdout"
        }
      ]
    },
    {
      "cell_type": "markdown",
      "metadata": {
        "id": "PQpr60NZGRRw"
      },
      "source": [
        "마찬가지로 평균 소비지수의 차이도 3% 정도라서 성별에 의해 크게 영향을 받는 것처럼 보이지는 않음"
      ]
    },
    {
      "cell_type": "markdown",
      "metadata": {
        "id": "PsOi2l06hO8l"
      },
      "source": [
        "## Q3. Age와 Spending Score를 corrlation 점수로 plot 하시오(seaborn을 이용하시오)"
      ]
    },
    {
      "cell_type": "code",
      "metadata": {
        "colab": {
          "base_uri": "https://localhost:8080/",
          "height": 108
        },
        "id": "3DArL9owekvZ",
        "outputId": "caca2394-18db-4923-c598-c99148e8eb0e"
      },
      "source": [
        "corr_col = ['Age', 'Spending Score (1-100)']\n",
        "chk_df = df.corr().loc[corr_col]\n",
        "chk_df"
      ],
      "execution_count": null,
      "outputs": [
        {
          "output_type": "execute_result",
          "data": {
            "text/html": [
              "<div>\n",
              "<style scoped>\n",
              "    .dataframe tbody tr th:only-of-type {\n",
              "        vertical-align: middle;\n",
              "    }\n",
              "\n",
              "    .dataframe tbody tr th {\n",
              "        vertical-align: top;\n",
              "    }\n",
              "\n",
              "    .dataframe thead th {\n",
              "        text-align: right;\n",
              "    }\n",
              "</style>\n",
              "<table border=\"1\" class=\"dataframe\">\n",
              "  <thead>\n",
              "    <tr style=\"text-align: right;\">\n",
              "      <th></th>\n",
              "      <th>CustomerID</th>\n",
              "      <th>Gender</th>\n",
              "      <th>Age</th>\n",
              "      <th>Annual Income (k$)</th>\n",
              "      <th>Spending Score (1-100)</th>\n",
              "    </tr>\n",
              "  </thead>\n",
              "  <tbody>\n",
              "    <tr>\n",
              "      <th>Age</th>\n",
              "      <td>-0.026763</td>\n",
              "      <td>-0.060867</td>\n",
              "      <td>1.000000</td>\n",
              "      <td>-0.012398</td>\n",
              "      <td>-0.327227</td>\n",
              "    </tr>\n",
              "    <tr>\n",
              "      <th>Spending Score (1-100)</th>\n",
              "      <td>0.013835</td>\n",
              "      <td>0.058109</td>\n",
              "      <td>-0.327227</td>\n",
              "      <td>0.009903</td>\n",
              "      <td>1.000000</td>\n",
              "    </tr>\n",
              "  </tbody>\n",
              "</table>\n",
              "</div>"
            ],
            "text/plain": [
              "                        CustomerID  ...  Spending Score (1-100)\n",
              "Age                      -0.026763  ...               -0.327227\n",
              "Spending Score (1-100)    0.013835  ...                1.000000\n",
              "\n",
              "[2 rows x 5 columns]"
            ]
          },
          "metadata": {
            "tags": []
          },
          "execution_count": 34
        }
      ]
    },
    {
      "cell_type": "code",
      "metadata": {
        "id": "mtrtvn1nhSc3",
        "colab": {
          "base_uri": "https://localhost:8080/",
          "height": 862
        },
        "outputId": "6d25a80c-0096-4997-f932-f42e0f06dc39"
      },
      "source": [
        "sns.pairplot(chk_df, kind=\"hist\", corner=True)"
      ],
      "execution_count": null,
      "outputs": [
        {
          "output_type": "execute_result",
          "data": {
            "text/plain": [
              "<seaborn.axisgrid.PairGrid at 0x7fec2fbfc310>"
            ]
          },
          "metadata": {
            "tags": []
          },
          "execution_count": 65
        },
        {
          "output_type": "display_data",
          "data": {
            "image/png": "[encoded data removed]",
            "text/plain": [
              "<Figure size 900x900 with 20 Axes>"
            ]
          },
          "metadata": {
            "tags": [],
            "needs_background": "light"
          }
        }
      ]
    },
    {
      "cell_type": "markdown",
      "metadata": {
        "id": "iUJTgQCilzNq"
      },
      "source": [
        "corr한 것에 'Age', 'Spending Score (1-100)'를 적용한 뒤, 다시 hist로 출력을 하니까 이상한 값이 나옴..."
      ]
    },
    {
      "cell_type": "code",
      "metadata": {
        "colab": {
          "base_uri": "https://localhost:8080/",
          "height": 446
        },
        "id": "K8dM7MSxmBqG",
        "outputId": "02ba1625-e831-4b51-fcd4-5e3a93fb8743"
      },
      "source": [
        "plt.figure(figsize=(9,7))\n",
        "sns.heatmap(\n",
        "    chk_df.T, annot=True, square=True, palette = ''\n",
        "    #cbar=True, cbar_kws=dict(shrink=.75), bins=30, discrete=(True, False),\n",
        ")"
      ],
      "execution_count": null,
      "outputs": [
        {
          "output_type": "execute_result",
          "data": {
            "text/plain": [
              "<matplotlib.axes._subplots.AxesSubplot at 0x7fec2d936050>"
            ]
          },
          "metadata": {
            "tags": []
          },
          "execution_count": 71
        },
        {
          "output_type": "display_data",
          "data": {
            "image/png": "[encoded data removed]",
            "text/plain": [
              "<Figure size 648x504 with 2 Axes>"
            ]
          },
          "metadata": {
            "tags": [],
            "needs_background": "light"
          }
        }
      ]
    },
    {
      "cell_type": "markdown",
      "metadata": {
        "id": "Q38_H5xe80NL"
      },
      "source": [
        "Age, Spending Score에 대한 heatmap을 확인하라는 문제로 해석을 해야하는 것인가를 고민했다가... 그럼 굳이 두 칼럼을 지정해서 문제를 제출하지 않았을 것 같다는 생각을 함"
      ]
    },
    {
      "cell_type": "code",
      "metadata": {
        "colab": {
          "base_uri": "https://localhost:8080/",
          "height": 458
        },
        "id": "cl-1X5Jghj4b",
        "outputId": "77b3dde8-86c4-4c2b-bacc-819f49a46b1d"
      },
      "source": [
        "plt.figure(figsize=(9,7))\n",
        "sns.histplot(\n",
        "    df, x=\"Age\", y=\"Spending Score (1-100)\",\n",
        "    bins=30, discrete=(True, False),\n",
        "    cbar=True, cbar_kws=dict(shrink=.75),\n",
        ")"
      ],
      "execution_count": null,
      "outputs": [
        {
          "output_type": "execute_result",
          "data": {
            "text/plain": [
              "<matplotlib.axes._subplots.AxesSubplot at 0x7fec34a239d0>"
            ]
          },
          "metadata": {
            "tags": []
          },
          "execution_count": 48
        },
        {
          "output_type": "display_data",
          "data": {
            "image/png": "[encoded data removed]",
            "text/plain": [
              "<Figure size 648x504 with 2 Axes>"
            ]
          },
          "metadata": {
            "tags": [],
            "needs_background": "light"
          }
        }
      ]
    },
    {
      "cell_type": "markdown",
      "metadata": {
        "id": "mV3XxJVV9FjP"
      },
      "source": [
        "나이대(혹은 연령대 별) 소비 지수에 대한 상관관계를 보기 위해 문제를 출제한 것인가? 하는 고민으로 다시 그린 그림을 통해, 높은 소비 지수에는 40대 미만이 많은 것 같다는 것을 확인함"
      ]
    },
    {
      "cell_type": "code",
      "metadata": {
        "colab": {
          "base_uri": "https://localhost:8080/",
          "height": 458
        },
        "id": "mwsfuyWsgL50",
        "outputId": "5450c90f-e3c4-4aa6-a600-21ee0b7b9567"
      },
      "source": [
        "plt.figure(figsize=(10,7))\n",
        "sns.histplot(df, x=\"Age\", y=\"Spending Score (1-100)\", hue=\"Gender\", palette='rocket_r',\n",
        "             cbar=True, cbar_kws=dict(shrink=.75), alpha=0.3)"
      ],
      "execution_count": null,
      "outputs": [
        {
          "output_type": "execute_result",
          "data": {
            "text/plain": [
              "<matplotlib.axes._subplots.AxesSubplot at 0x7fec336218d0>"
            ]
          },
          "metadata": {
            "tags": []
          },
          "execution_count": 52
        },
        {
          "output_type": "display_data",
          "data": {
            "image/png": "[encoded data removed]",
            "text/plain": [
              "<Figure size 720x504 with 3 Axes>"
            ]
          },
          "metadata": {
            "tags": [],
            "needs_background": "light"
          }
        }
      ]
    },
    {
      "cell_type": "markdown",
      "metadata": {
        "id": "hcVNa53593qk"
      },
      "source": [
        "소비 지수 50점 정도의 구간과 30대 초중반의 경우 남녀의 성비가 고르게 분포된 것 처럼 보이는데 자세한 확인이 필요할 것 같음"
      ]
    },
    {
      "cell_type": "code",
      "metadata": {
        "colab": {
          "base_uri": "https://localhost:8080/",
          "height": 458
        },
        "id": "a76L4hSGglP3",
        "outputId": "1f06b621-de94-4111-ca02-57ac389ca72b"
      },
      "source": [
        "plt.figure(figsize=(9,7))\n",
        "sns.histplot(\n",
        "    df, x=\"Age\", y=\"Spending Score (1-100)\",\n",
        "    bins=30, discrete=(True, False), log_scale=(False, True),\n",
        "    cbar=True, cbar_kws=dict(shrink=.75),\n",
        ")"
      ],
      "execution_count": null,
      "outputs": [
        {
          "output_type": "execute_result",
          "data": {
            "text/plain": [
              "<matplotlib.axes._subplots.AxesSubplot at 0x7fec33b73350>"
            ]
          },
          "metadata": {
            "tags": []
          },
          "execution_count": 47
        },
        {
          "output_type": "display_data",
          "data": {
            "image/png": "[encoded data removed]",
            "text/plain": [
              "<Figure size 648x504 with 2 Axes>"
            ]
          },
          "metadata": {
            "tags": [],
            "needs_background": "light"
          }
        }
      ]
    },
    {
      "cell_type": "markdown",
      "metadata": {
        "id": "6g6WRLqr9sk6"
      },
      "source": [
        "굳이 log를 취할 필요는 없을 것 같음"
      ]
    },
    {
      "cell_type": "markdown",
      "metadata": {
        "id": "l-m7ySUuhSyO"
      },
      "source": [
        "## Q4. K-mean을 Eblow method을 적용하고 결과를 해석하시오."
      ]
    },
    {
      "cell_type": "code",
      "metadata": {
        "colab": {
          "base_uri": "https://localhost:8080/"
        },
        "id": "jhPpaS9GHNmS",
        "outputId": "dd12a237-cb04-4fc3-dcdf-ffa64b8d8e31"
      },
      "source": [
        "!pip install yellowbrick"
      ],
      "execution_count": null,
      "outputs": [
        {
          "output_type": "stream",
          "text": [
            "Requirement already satisfied: yellowbrick in /usr/local/lib/python3.7/dist-packages (0.9.1)\n",
            "Requirement already satisfied: cycler>=0.10.0 in /usr/local/lib/python3.7/dist-packages (from yellowbrick) (0.10.0)\n",
            "Requirement already satisfied: scikit-learn>=0.20 in /usr/local/lib/python3.7/dist-packages (from yellowbrick) (0.22.2.post1)\n",
            "Requirement already satisfied: scipy>=1.0.0 in /usr/local/lib/python3.7/dist-packages (from yellowbrick) (1.4.1)\n",
            "Requirement already satisfied: matplotlib!=3.0.0,>=1.5.1 in /usr/local/lib/python3.7/dist-packages (from yellowbrick) (3.2.2)\n",
            "Requirement already satisfied: numpy>=1.13.0 in /usr/local/lib/python3.7/dist-packages (from yellowbrick) (1.19.5)\n",
            "Requirement already satisfied: six in /usr/local/lib/python3.7/dist-packages (from cycler>=0.10.0->yellowbrick) (1.15.0)\n",
            "Requirement already satisfied: joblib>=0.11 in /usr/local/lib/python3.7/dist-packages (from scikit-learn>=0.20->yellowbrick) (1.0.1)\n",
            "Requirement already satisfied: python-dateutil>=2.1 in /usr/local/lib/python3.7/dist-packages (from matplotlib!=3.0.0,>=1.5.1->yellowbrick) (2.8.1)\n",
            "Requirement already satisfied: pyparsing!=2.0.4,!=2.1.2,!=2.1.6,>=2.0.1 in /usr/local/lib/python3.7/dist-packages (from matplotlib!=3.0.0,>=1.5.1->yellowbrick) (2.4.7)\n",
            "Requirement already satisfied: kiwisolver>=1.0.1 in /usr/local/lib/python3.7/dist-packages (from matplotlib!=3.0.0,>=1.5.1->yellowbrick) (1.3.1)\n"
          ],
          "name": "stdout"
        }
      ]
    },
    {
      "cell_type": "code",
      "metadata": {
        "colab": {
          "base_uri": "https://localhost:8080/"
        },
        "id": "adRzEnl3HTr8",
        "outputId": "2672fca2-d1ce-4d1b-c1e1-d215bc30dc15"
      },
      "source": [
        "df.shape"
      ],
      "execution_count": null,
      "outputs": [
        {
          "output_type": "execute_result",
          "data": {
            "text/plain": [
              "(200, 6)"
            ]
          },
          "metadata": {
            "tags": []
          },
          "execution_count": 49
        }
      ]
    },
    {
      "cell_type": "code",
      "metadata": {
        "id": "SYF7sOD7hWhE"
      },
      "source": [
        "from sklearn.cluster import KMeans\n",
        "from sklearn.datasets import make_blobs\n",
        "\n",
        "from yellowbrick.cluster import KElbowVisualizer\n",
        "\n",
        "# Generate synthetic dataset with 8 random clusters\n",
        "X, y = make_blobs(n_samples=1000, n_features=6, centers=8, random_state=42)\n",
        "\n",
        "# Instantiate the clustering model and visualizer\n",
        "model = KMeans()\n",
        "visualizer = KElbowVisualizer(\n",
        "    model, k=(4,12), metric='calinski_harabasz', timings=False\n",
        ")\n",
        "\n",
        "visualizer.fit(X)        # Fit the data to the visualizer\n",
        "visualizer.show()        # Finalize and render the figure"
      ],
      "execution_count": null,
      "outputs": []
    },
    {
      "cell_type": "markdown",
      "metadata": {
        "id": "wklCrOECHl66"
      },
      "source": [
        "죄송한데...공식 문서를 봐도 단시간에 못 풀겠어요ㅠㅠㅠ"
      ]
    },
    {
      "cell_type": "markdown",
      "metadata": {
        "id": "96gsWgT5hXBP"
      },
      "source": [
        "## Q5. DBSCAN을 적용하고 결과를 해석하시오."
      ]
    },
    {
      "cell_type": "code",
      "metadata": {
        "id": "-yZ8-YKwhEY0"
      },
      "source": [
        ""
      ],
      "execution_count": null,
      "outputs": []
    },
    {
      "cell_type": "markdown",
      "metadata": {
        "id": "1vs9UDNu-Inq"
      },
      "source": [
        "# 빅데이터 활용 기획\n",
        "-- Def & Class(Q1toQ5)"
      ]
    },
    {
      "cell_type": "markdown",
      "metadata": {
        "id": "5I6Mm09S-t7v"
      },
      "source": [
        "Rule : 내장 함수 사용 시 0점\n",
        "\n",
        "* split\n",
        "* replace\n",
        "* len\n",
        "* append\n",
        "* pop\n",
        "\n",
        "허용하지만,,, 안 쓰는 방법을 고민해보기"
      ]
    },
    {
      "cell_type": "markdown",
      "metadata": {
        "id": "-kvrtSHXSbw0"
      },
      "source": [
        "* abs()\n",
        "* all()\n",
        "* any()\n",
        "* ascii()\n",
        "* bin()\n",
        "* bool()\n",
        "* breakpoint()\n",
        "* bytearray()\n",
        "* bytes()\n",
        "* callable()\n",
        "* chr()\n",
        "* classmethod()\n",
        "* compile()\n",
        "* complex()\n",
        "* delattr()\n",
        "* dict()\n",
        "* dir()\n",
        "* divmod()\n",
        "* enumerate()\n",
        "* eval()\n",
        "* exec()\n",
        "* filter()\n",
        "* float()\n",
        "* format()\n",
        "* frozenset()\n",
        "* getattr()\n",
        "* globals()\n",
        "* hasattr()\n",
        "* hash()\n",
        "* help()\n",
        "* hex()\n",
        "* id()\n",
        "* input()\n",
        "* int()\n",
        "* isinstance()\n",
        "* issubclass()\n",
        "* iter()\n",
        "* len()\n",
        "* list()\n",
        "* locals()\n",
        "* map()\n",
        "* max()\n",
        "* memoryview()\n",
        "* min()\n",
        "* next()\n",
        "* object()\n",
        "* oct()\n",
        "* open()\n",
        "* ord()\n",
        "* pow()\n",
        "* print()\n",
        "* property()\n",
        "* range()\n",
        "* repr()\n",
        "* reversed()\n",
        "* round()\n",
        "* set()\n",
        "* setattr()\n",
        "* slice()\n",
        "* sorted()\n",
        "* staticmethod()\n",
        "* str()\n",
        "* sum()\n",
        "* super()\n",
        "* tuple()\n",
        "* type()\n",
        "* vars()\n",
        "* zip()\n",
        "* __import__()\n",
        "[python 내장함수 document] https://python.flowdas.com/library/functions.html"
      ]
    },
    {
      "cell_type": "markdown",
      "metadata": {
        "id": "U12UYrDC-M44"
      },
      "source": [
        "## Q1"
      ]
    },
    {
      "cell_type": "markdown",
      "metadata": {
        "id": "FeuuH5gc-6bx"
      },
      "source": [
        "(하)class로 작성하시오.\n",
        "주사위 클래스 Dice를 설계하는데 메소드에는 roll()을 구현하여 주사위를 던져 나온 숫자를 화면에 출력하는 프로그램을 작성하시오.\n",
        "-단, 난수의 발생은 다음을 이용하라.\n",
        "- face = random.randint(1, 6)"
      ]
    },
    {
      "cell_type": "code",
      "metadata": {
        "id": "57bsV-5V-nOP"
      },
      "source": [
        "import random\n",
        "import time\n",
        "\n",
        "class Dice():\n",
        "\n",
        "  def __init__(self, P1, SAW=\"SAW\", P1_Dice=None, SAW_Dice=None):\n",
        "    self.stranger = SAW\n",
        "    self.player = P1\n",
        "    self.face = P1_Dice\n",
        "    self.game = SAW_Dice\n",
        "    print(f\"{self.stranger} : 자, 지금부터 게임을 시작하지\")\n",
        "\n",
        "  def winlose(self):#, stranger, player):\n",
        "    if self.face>self.game:\n",
        "      print(\"니가 이겼군...산낙지 먹으러 갈래?\")\n",
        "    elif self.face<self.game:\n",
        "      print(f\"{self.player}... 코딩이 하고 싶어? 당장 노트북 켜\")\n",
        "    else:\n",
        "      print(\"비겼으니 한 판 더 진행해야겠어\")\n",
        "\n",
        "  def roll(self):\n",
        "    print(f\"{self.player}... 니가 던진 주사위가 굴러가고 있어.\")\n",
        "    time.sleep(3)\n",
        "    self.face = random.randint(1, 6)\n",
        "    print(f\"{self.player}(이)가 던진 주사위 숫자 : {self.face}\")\n",
        "  \n",
        "  def turn(self):\n",
        "    print(f\"{self.stranger} : 내가 이기면,,,\")\n",
        "    time.sleep(1)\n",
        "    print(f\"{self.stranger} : 군만두만 먹을 각오로 프로젝트에 집중하도록 해\")\n",
        "    time.sleep(3)\n",
        "    self.game = random.randint(1, 6)\n",
        "    print(f\"{self.stranger}(이)가 던진 주사위 숫자 : {self.game}\")"
      ],
      "execution_count": null,
      "outputs": []
    },
    {
      "cell_type": "code",
      "metadata": {
        "colab": {
          "base_uri": "https://localhost:8080/"
        },
        "id": "zauFviNQACPZ",
        "outputId": "d03cb556-a66f-429d-ed59-7c4f117b4514"
      },
      "source": [
        "G1 = Dice(\"Ashbee\") "
      ],
      "execution_count": null,
      "outputs": [
        {
          "output_type": "stream",
          "text": [
            "SAW : 자, 지금부터 게임을 시작하지\n"
          ],
          "name": "stdout"
        }
      ]
    },
    {
      "cell_type": "code",
      "metadata": {
        "colab": {
          "base_uri": "https://localhost:8080/"
        },
        "id": "Q_2QUYMafTJL",
        "outputId": "eb71cc7a-7872-41a3-a10b-e41d3f4fa3e9"
      },
      "source": [
        "G1.roll()"
      ],
      "execution_count": null,
      "outputs": [
        {
          "output_type": "stream",
          "text": [
            "Ashbee... 니가 던진 주사위가 굴러가고 있어.\n",
            "Ashbee(이)가 던진 주사위 숫자 : 4\n"
          ],
          "name": "stdout"
        }
      ]
    },
    {
      "cell_type": "code",
      "metadata": {
        "colab": {
          "base_uri": "https://localhost:8080/"
        },
        "id": "kB9irDObc5Ti",
        "outputId": "87a9dbc8-f144-4f18-f4f3-919dcbd1cc65"
      },
      "source": [
        "G1.turn()"
      ],
      "execution_count": null,
      "outputs": [
        {
          "output_type": "stream",
          "text": [
            "SAW : 내가 이기면,,,\n",
            "SAW : 군만두만 먹을 각오로 프로젝트에 집중하도록 해\n",
            "SAW(이)가 던진 주사위 숫자 : 4\n"
          ],
          "name": "stdout"
        }
      ]
    },
    {
      "cell_type": "code",
      "metadata": {
        "colab": {
          "base_uri": "https://localhost:8080/"
        },
        "id": "R5InK4WRZRMz",
        "outputId": "ba4ca243-c918-4b77-cb52-454758cd8945"
      },
      "source": [
        "G1.winlose()"
      ],
      "execution_count": null,
      "outputs": [
        {
          "output_type": "stream",
          "text": [
            "비겼으니 한 판 더 진행해야겠어\n"
          ],
          "name": "stdout"
        }
      ]
    },
    {
      "cell_type": "markdown",
      "metadata": {
        "id": "QIjQ24XE-dcx"
      },
      "source": [
        "## Q2"
      ]
    },
    {
      "cell_type": "markdown",
      "metadata": {
        "id": "CX9D8VFA-9DQ"
      },
      "source": [
        "(상) 배스킨라빈스 31게임.\n",
        "<게임규칙>\n",
        "게의 참여자들은 차례를 정해 1부터 31까지의 수를 순차적으로 부른다. 한번에 1~3개까지 수를 연달아 부를 수 있으며, 마지막 31을 부른 사람이 진다.\n",
        "- 컴퓨터가 무조건 먼저 시작하고,1P는 무조건 2번째로 말한다.컴퓨터가 무조건 이기게 만들어라.\n",
        "\n",
        "\n",
        "<힌트 1> 4n-2라는 공식을 사용하면 됩니다.\n",
        "\n",
        "\n",
        "<힌트 2>이 게임은 31을 부르면 지는 게임이니 30을 부르면 이깁니다."
      ]
    },
    {
      "cell_type": "code",
      "metadata": {
        "colab": {
          "base_uri": "https://localhost:8080/"
        },
        "id": "5nKvKGQNMFjL",
        "outputId": "d00a35b8-3ac8-4c89-e5f3-4cbd7355e4c1"
      },
      "source": [
        "taste = [flaver for flaver in range(1, 32)]\n",
        "computer = 2\n",
        "player = 0\n",
        "turn = 0\n",
        "\n",
        "while True:\n",
        "  if turn==0:\n",
        "    for comp in range(computer):\n",
        "      print(f\"\\tcomputer : {taste.pop(0)}\")\n",
        "      turn+=1\n",
        "  elif len(taste)>1:\n",
        "    try:\n",
        "      player = int(input(\"연달아 부를 숫자의 횟수(가능 범위 : 1~3회) : \"))\n",
        "\n",
        "      if (player<0) or (player>3):\n",
        "        print(\"가능한 범위의 숫자만 입력해주세요.\")\n",
        "        \n",
        "      else:\n",
        "        for cnt in range(player):\n",
        "          print(f\"\\t1P : {taste.pop(0)}\")\n",
        "        computer = 4-player\n",
        "        for cnt in range(computer):\n",
        "          print(f\"\\tcomputer : {taste.pop(0)}\")\n",
        "        turn += 1\n",
        "        \n",
        "    except:\n",
        "      print(\"(단호)\\t정수만 입력이 가능합니다.\\t(단호)\")\n",
        "  elif len(taste)==1:\n",
        "    print(\"You Lose!\")\n",
        "    break"
      ],
      "execution_count": null,
      "outputs": [
        {
          "output_type": "stream",
          "text": [
            "computer : 1\n",
            "computer : 2\n",
            "연달아 부를 숫자의 횟수(가능 범위 : 1~3회)는? 2\n",
            "1P : 3\n",
            "1P : 4\n",
            "computer : 5\n",
            "computer : 6\n",
            "연달아 부를 숫자의 횟수(가능 범위 : 1~3회)는? 4\n",
            "가능한 범위의 숫자만 입력해주세요.\n",
            "연달아 부를 숫자의 횟수(가능 범위 : 1~3회)는? 3\n",
            "1P : 7\n",
            "1P : 8\n",
            "1P : 9\n",
            "computer : 10\n",
            "연달아 부를 숫자의 횟수(가능 범위 : 1~3회)는? 3.5\n",
            "문자나 실수가 아닌 정수만 입력이 가능합니다.\n",
            "연달아 부를 숫자의 횟수(가능 범위 : 1~3회)는? sdf\n",
            "문자나 실수가 아닌 정수만 입력이 가능합니다.\n",
            "연달아 부를 숫자의 횟수(가능 범위 : 1~3회)는? ㅇㄹㄴ\n",
            "문자나 실수가 아닌 정수만 입력이 가능합니다.\n",
            "연달아 부를 숫자의 횟수(가능 범위 : 1~3회)는? 2\n",
            "1P : 11\n",
            "1P : 12\n",
            "computer : 13\n",
            "computer : 14\n",
            "연달아 부를 숫자의 횟수(가능 범위 : 1~3회)는? 1\n",
            "1P : 15\n",
            "computer : 16\n",
            "computer : 17\n",
            "computer : 18\n",
            "연달아 부를 숫자의 횟수(가능 범위 : 1~3회)는? 4\n",
            "가능한 범위의 숫자만 입력해주세요.\n",
            "연달아 부를 숫자의 횟수(가능 범위 : 1~3회)는? 2\n",
            "1P : 19\n",
            "1P : 20\n",
            "computer : 21\n",
            "computer : 22\n",
            "연달아 부를 숫자의 횟수(가능 범위 : 1~3회)는? 3\n",
            "1P : 23\n",
            "1P : 24\n",
            "1P : 25\n",
            "computer : 26\n",
            "연달아 부를 숫자의 횟수(가능 범위 : 1~3회)는? 1\n",
            "1P : 27\n",
            "computer : 28\n",
            "computer : 29\n",
            "computer : 30\n",
            "You Lose!\n"
          ],
          "name": "stdout"
        }
      ]
    },
    {
      "cell_type": "markdown",
      "metadata": {
        "id": "Hcfwzmc4-hjn"
      },
      "source": [
        "## Q3"
      ]
    },
    {
      "cell_type": "markdown",
      "metadata": {
        "id": "ay8FS4-D-_rQ"
      },
      "source": [
        "(중) 내용에 맞게 코드를 작성하시오.\n",
        "괄호 문자열(Parenthesis String, PS)은 두 개의 괄호 기호인 ‘(’ 와 ‘)’ 만으로 구성되어 있는 문자열이다. 그 중에서 괄호의 모양이 바르게 구성된 문자열을 올바른 괄호 문자열(Valid PS, VPS)이라고 부른다. 한 쌍의 괄호 기호로 된 “( )” 문자열은 기본 VPS 이라고 부른다. 만일 x 가 VPS 라면 이것을 하나의 괄호에 넣은 새로운 문자열 “(x)”도 VPS 가 된다. 그리고 두 VPS x 와 y를 접합(concatenation)시킨 새로운 문자열 xy도 VPS 가 된다. 예를 들어 “(())()”와 “((()))” 는 VPS 이지만 “(()(”, “(())()))” , 그리고 “(()” 는 모두 VPS 가 아닌 문자열이다. \n",
        "여러분은 입력으로 주어진 괄호 문자열이 VPS 인지 아닌지를 판단해서 그 결과를 YES 와 NO 로 나타내어야 한다."
      ]
    },
    {
      "cell_type": "code",
      "metadata": {
        "id": "CW8k2qkd-oMv",
        "colab": {
          "base_uri": "https://localhost:8080/",
          "height": 207
        },
        "outputId": "d545a628-de75-4185-e47a-5ec829eeb5e5"
      },
      "source": [
        "import re\n",
        "\n",
        "PS = input()\n",
        "PS = re.sub(\"[a-zA-Zㄱ-힣\\d]\", \"\", PS)\n",
        "VPSorNOT = [letter for letter in PS]\n",
        "\n",
        "while True:\n",
        "  if len(VPSorNOT)%2==1:\n",
        "    print(\"NO\")\n",
        "    break\n",
        "  elif len([chk for chk in VPSorNOT if \"(\"==chk])!=len([chk2 for chk2 in VPSorNOT if \")\"==chk2]):\n",
        "    print(\"NO\")\n",
        "    break\n",
        "  else:\n",
        "    half = len(VPSorNOT)//2\n",
        "    cnt = 0\n",
        "\n",
        "    for repeat in range(half):\n",
        "      if (cnt==half) and (len(VPSorNOT)==0):\n",
        "        print(\"YES\")\n",
        "        break\n",
        "      elif (cnt==half) and (len(VPSorNOT)>0):\n",
        "        print(\"NO\")\n",
        "        break\n",
        "\n",
        "      if VPSorNOT[:2]=='()':\n",
        "        VPSorNOT = VPSorNOT[2:]\n",
        "        cnt += 1\n",
        "      elif VPSorNOT[-2:]=='()':\n",
        "        VPSorNOT = VPSorNOT[:-2]\n",
        "        cnt += 1\n",
        "      elif (VPSorNOT[0]=='(') and (VPSorNOT[-1]==')'):\n",
        "        VPSorNOT = VPSorNOT[1:-1]\n",
        "        cnt += 1\n",
        "      else:\n",
        "        cnt += 1"
      ],
      "execution_count": null,
      "outputs": [
        {
          "output_type": "stream",
          "text": [
            "((dfdDD))(df123)\n"
          ],
          "name": "stdout"
        },
        {
          "output_type": "error",
          "ename": "KeyboardInterrupt",
          "evalue": "ignored",
          "traceback": [
            "\u001b[0;31m---------------------------------------------------------------------------\u001b[0m",
            "\u001b[0;31mKeyboardInterrupt\u001b[0m                         Traceback (most recent call last)",
            "\u001b[0;32m<ipython-input-27-1e4b90748352>\u001b[0m in \u001b[0;36m<module>\u001b[0;34m()\u001b[0m\n\u001b[1;32m     34\u001b[0m         \u001b[0mcnt\u001b[0m \u001b[0;34m+=\u001b[0m \u001b[0;36m1\u001b[0m\u001b[0;34m\u001b[0m\u001b[0;34m\u001b[0m\u001b[0m\n\u001b[1;32m     35\u001b[0m       \u001b[0;32melse\u001b[0m\u001b[0;34m:\u001b[0m\u001b[0;34m\u001b[0m\u001b[0;34m\u001b[0m\u001b[0m\n\u001b[0;32m---> 36\u001b[0;31m         \u001b[0mcnt\u001b[0m \u001b[0;34m+=\u001b[0m \u001b[0;36m1\u001b[0m\u001b[0;34m\u001b[0m\u001b[0;34m\u001b[0m\u001b[0m\n\u001b[0m",
            "\u001b[0;31mKeyboardInterrupt\u001b[0m: "
          ]
        }
      ]
    },
    {
      "cell_type": "markdown",
      "metadata": {
        "id": "ROb0iMb5-jen"
      },
      "source": [
        "## Q4"
      ]
    },
    {
      "cell_type": "markdown",
      "metadata": {
        "id": "C4d7NigS_BfJ"
      },
      "source": [
        "[하]사칙연산은 Class로 작성하시오.\n",
        "주의) 내장함수를 사용하면 copy(0점)로 간주.\n",
        "- 생성자도 호출하시오."
      ]
    },
    {
      "cell_type": "code",
      "metadata": {
        "id": "7HrEvtFiLgC3"
      },
      "source": [
        "class Calculator_only4():\n",
        "\n",
        "  def __init__(self, num_a, num_b):\n",
        "    self.nA = num_a\n",
        "    self.nB = num_b\n",
        "  \n",
        "  def cal_PLUS(self):\n",
        "    calP = self.nA + self.nB\n",
        "    print(f\"{self.nA} + {self.nB} = {calP}\")\n",
        "    return calP\n",
        "\n",
        "  def cal_MINUS(self):\n",
        "    calM = self.nA - self.nB\n",
        "    print(f\"{self.nA} - {self.nB} = {calM}\")\n",
        "    return calM\n",
        "\n",
        "  def cal_MULTIPLY(self):\n",
        "    calMTP = self.nA * self.nB\n",
        "    print(f\"{self.nA} * {self.nB} = {calMTP}\")\n",
        "    return calMTP\n",
        "\n",
        "  def cal_DIVIDE(self):\n",
        "    calD = self.nA / self.nB\n",
        "    print(f\"{self.nA} / {self.nB} = {calD}\")\n",
        "    return calD  "
      ],
      "execution_count": null,
      "outputs": []
    },
    {
      "cell_type": "code",
      "metadata": {
        "colab": {
          "base_uri": "https://localhost:8080/"
        },
        "id": "d6mWOnkbLpxf",
        "outputId": "64f4e5ca-f21c-4376-ab14-45e14e9ab7e2"
      },
      "source": [
        "cal4way = Calculator_only4(7, 28)\n",
        "plus = cal4way.cal_PLUS()"
      ],
      "execution_count": null,
      "outputs": [
        {
          "output_type": "stream",
          "text": [
            "7 + 28 = 35\n"
          ],
          "name": "stdout"
        }
      ]
    },
    {
      "cell_type": "code",
      "metadata": {
        "id": "yxK8oQ8Q-cwA"
      },
      "source": [
        "# 머리 아플 때 재미로 짤 코드ㅋㅋㅋㅋㅋㅋ뭔가 class는 아직 어려움\n",
        "\n",
        "# import time\n",
        "\n",
        "# class Calculator_only4():\n",
        "\n",
        "#   def __init__(self, num_a, num_b):\n",
        "#     self.nA = num_a\n",
        "#     self.nB = num_b\n",
        "  \n",
        "#   def cal_PLUS(self):\n",
        "#     # print(f\"{self.nA} + {self.nB}=?\")\n",
        "#     calP = self.nA + self.nB\n",
        "#     return calP\n",
        "\n",
        "#   def cal_MINUS(self):\n",
        "#     # print(f\"{self.nA} - {self.nB}=?\")\n",
        "#     calM = self.nA - self.nB\n",
        "#     return calM\n",
        "\n",
        "#   def cal_MULTIPLE(self):\n",
        "#     # print(f\"{self.nA} * {self.nB}=?\")\n",
        "#     calMTP = self.nA * self.nB\n",
        "#     return calMTP\n",
        "\n",
        "#   def cal_DIVIDE(self):\n",
        "#     # print(f\"{self.nA} / {self.nB}=?\")\n",
        "#     calD = self.nA / self.nB\n",
        "#     return calD            \n",
        "\n",
        "#   def cal_Print(calP=None, calM=None, calMTP=None, calD=None):\n",
        "#     if calP==None and calM==None and calMTP==None and calD==None:\n",
        "#       print(\"어떤 사칙 연산을 쓸 건가?\")\n",
        "#     elif calP!=None:\n",
        "#       print(\"머리로 얼른 생각해봐!!!!!!!\")\n",
        "#       time.sleep(random.randint(5,10))\n",
        "#       print(f\"덧셈이 어려워???\\n답은 {calP}야\")\n",
        "\n",
        "#     elif calM!=None:\n",
        "#       print(\"너도 머리가 있잖아!!!!!!!\")\n",
        "#       time.sleep(random.randint(5,10))\n",
        "#       print(f\"겨우 뺄셈 가지고...\\n답은 {calM}야\")\n",
        "\n",
        "#     elif calMTP!=None:\n",
        "#       if len(str(calMTP))<=3:\n",
        "#         print(\"머리로도 곱하고 있는 거 맞지???\")\n",
        "#         time.sleep(random.randint(5,10))\n",
        "#         print(f\"어렵지 않은 곱셈인데...\\n답은 {calMTP}야\")\n",
        "#       else:\n",
        "#         print(f\"솔직히 이건 계산기가 빠름ㅋㅋㅋ\\n답은 {calMTP}야\")\n",
        "\n",
        "#     elif calD!=None:\n",
        "#       if len(str(calD))<=5:\n",
        "#         print(\"시간을 더 줄테니 한 번 풀어봐\")\n",
        "#         time.sleep(random.randint(10,15))\n",
        "#         print(f\"ㅎ..ㅎㅎ...\\n답은 {calD}야\")\n",
        "#       else:\n",
        "#         print(f\"고생많았다\\n답은 {calD}야\")        \n"
      ],
      "execution_count": null,
      "outputs": []
    },
    {
      "cell_type": "code",
      "metadata": {
        "colab": {
          "base_uri": "https://localhost:8080/"
        },
        "id": "kB5jbmVAGkOx",
        "outputId": "35e6db89-7487-4b45-9fb9-ff9896fa023f"
      },
      "source": [
        "cal4way = Calculator_only4(7, 28)\n",
        "plus = cal4way.cal_PLUS()\n",
        "cal4way.cal_Print(plus)"
      ],
      "execution_count": null,
      "outputs": [
        {
          "output_type": "stream",
          "text": [
            "머리로 얼른 생각해봐!!!!!!!\n",
            "덧셈이 어려워???\n",
            "답은 <__main__.Calculator_only4 object at 0x7f4a5b47c350>야\n"
          ],
          "name": "stdout"
        }
      ]
    },
    {
      "cell_type": "markdown",
      "metadata": {
        "id": "CoqpQEnX-kyY"
      },
      "source": [
        "## Q5"
      ]
    },
    {
      "cell_type": "markdown",
      "metadata": {
        "id": "JmgU0JEf2aZs"
      },
      "source": [
        "[중] 업다운 게임을 작성하시오\n",
        "소주 병뚜껑에서 1-50까지의 숫자를 말하면 Up또는 Down을 알려주는 코드를 작성하시오.\n",
        "5번안에 맞추지 않으면 Game over도 출력하시오."
      ]
    },
    {
      "cell_type": "code",
      "metadata": {
        "id": "byD3e4vG9--4"
      },
      "source": [
        "import random\n",
        "\n",
        "def SoJu_UpDown():\n",
        "  soju_num = random.randint(1,50)\n",
        "  soju_nlst = [no for no in range(1, 51)]\n",
        "  cnt = 0\n",
        "  num_bucket = []\n",
        "  player = input(\"당신은 이름은 무엇입니까? \")\n",
        "  pause = time.sleep(random.randint(2,5))\n",
        "\n",
        "  while True:\n",
        "    try : \n",
        "      tried = int(input('1~50까지의 숫자(정수)를 입력하세요.(이전에 입력한 값 제외) : '))\n",
        "\n",
        "      if cnt==5:\n",
        "        print(f\"\\n\\n정답은~~~ {soju_num}!!!\")\n",
        "        print(f\"\\nGame Over{pause}\\n아, 못 맞춰도 마셔야지?ㅋㅋㅋ\\n{player}(이)가 술을 마셔!\")\n",
        "        print(f\"\\n{player[:1]}! 짝짝! 짝짝!{pause}\\n{player[1:2]}! 짝짝! 짝짝!{pause}\\n{player[2:]}!!! 아~ 원~샷! 투~샷!\")\n",
        "        break\n",
        "\n",
        "      elif (tried<1) or (tried>50):\n",
        "        print(\"제발 범위 안에서만 입력해주세요ㅠㅠㅠ\")\n",
        "      \n",
        "      elif tried in num_bucket:\n",
        "        print(\"이전에 입력한 값은 제외라니까, 벌써 술 취했나??\")\n",
        "\n",
        "      elif tried==soju_num:\n",
        "        print('\\n\\n*축 당첨*\\n아! 마셔 마셔~ 먹고 D져~ B신 B신~ 네 발로 기어라~@&^*_&%')\n",
        "        break\n",
        "      \n",
        "      elif tried>=soju_num:\n",
        "        print('Down!')\n",
        "        cnt += 1\n",
        "        num_bucket.append(tried)\n",
        "      \n",
        "      elif tried<=soju_num:\n",
        "        print('Up!')\n",
        "        cnt += 1\n",
        "        num_bucket.append(tried) \n",
        "      \n",
        "    except:\n",
        "      print(\"정수만 입력하라고ㅋㅋㅋㅋㅋ\")    "
      ],
      "execution_count": null,
      "outputs": []
    },
    {
      "cell_type": "code",
      "metadata": {
        "colab": {
          "base_uri": "https://localhost:8080/"
        },
        "id": "pZvqxfkV1XE9",
        "outputId": "16afd489-70b5-44e0-db64-f8961a1b1624"
      },
      "source": [
        "SoJu_UpDown()"
      ],
      "execution_count": null,
      "outputs": [
        {
          "output_type": "stream",
          "text": [
            "당신은 이름은 무엇입니까? 김수빈\n",
            "1~50까지의 숫자(정수)를 입력하세요.(이전에 입력한 값 제외) : 3\n",
            "Up!\n",
            "1~50까지의 숫자(정수)를 입력하세요.(이전에 입력한 값 제외) : 8\n",
            "Down!\n",
            "1~50까지의 숫자(정수)를 입력하세요.(이전에 입력한 값 제외) : 10\n",
            "Down!\n",
            "1~50까지의 숫자(정수)를 입력하세요.(이전에 입력한 값 제외) : 5\n",
            "Down!\n",
            "1~50까지의 숫자(정수)를 입력하세요.(이전에 입력한 값 제외) : ㅇㄹ\n",
            "정수만 입력하라고ㅋㅋㅋㅋㅋ\n",
            "1~50까지의 숫자(정수)를 입력하세요.(이전에 입력한 값 제외) : dfe\n",
            "정수만 입력하라고ㅋㅋㅋㅋㅋ\n",
            "1~50까지의 숫자(정수)를 입력하세요.(이전에 입력한 값 제외) : 4.5\n",
            "정수만 입력하라고ㅋㅋㅋㅋㅋ\n",
            "1~50까지의 숫자(정수)를 입력하세요.(이전에 입력한 값 제외) : 4,5\n",
            "정수만 입력하라고ㅋㅋㅋㅋㅋ\n",
            "1~50까지의 숫자(정수)를 입력하세요.(이전에 입력한 값 제외) : 4\n",
            "*축 당첨*\n",
            "아! 마셔 마셔~ 먹고 D져~ B신 B신~ 네 발로 기어라~@&^*_&%\n"
          ],
          "name": "stdout"
        }
      ]
    }
  ]
}